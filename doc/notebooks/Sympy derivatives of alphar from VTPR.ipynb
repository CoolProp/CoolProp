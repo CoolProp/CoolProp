{
 "cells": [
  {
   "cell_type": "code",
   "execution_count": 2,
   "metadata": {
    "collapsed": false
   },
   "outputs": [
    {
     "name": "stdout",
     "output_type": "stream",
     "text": [
      "IPython console for SymPy 1.0 (Python 2.7.11-64-bit) (ground types: python)\n"
     ]
    }
   ],
   "source": [
    "from __future__ import division\n",
    "from sympy import *\n",
    "init_session(quiet=True)"
   ]
  },
  {
   "cell_type": "code",
   "execution_count": 14,
   "metadata": {
    "collapsed": false
   },
   "outputs": [
    {
     "data": {
      "image/png": "[encoded data removed]",
      "text/latex": [
       "$$- \\log{\\left (- \\delta \\rho_{r} \\left(b_{m} - c_{m}\\right) + 1 \\right )} - \\frac{\\sqrt{2} a_{m}}{4 R_{u} T b_{m}} \\log{\\left (\\frac{b_{m} \\delta \\rho_{r} \\left(c_{m} + 1 + \\sqrt{2}\\right) + 1}{b_{m} \\delta \\rho_{r} \\left(c_{m} - \\sqrt{2} + 1\\right) + 1} \\right )}$$"
      ],
      "text/plain": [
       "                                        ⎛b_m⋅δ⋅ρᵣ⋅(c_m + 1 + √2) + 1⎞\n",
       "                              √2⋅a_m⋅log⎜───────────────────────────⎟\n",
       "                                        ⎝b_m⋅δ⋅ρᵣ⋅(c_m - √2 + 1) + 1⎠\n",
       "-log(-δ⋅ρᵣ⋅(b_m - c_m) + 1) - ───────────────────────────────────────\n",
       "                                             4⋅Rᵤ⋅T⋅b_m              "
      ]
     },
     "metadata": {},
     "output_type": "display_data"
    },
    {
     "data": {
      "image/png": "[encoded data removed]",
      "text/latex": [
       "$$\\frac{\\rho_{r}^{2}}{4 R_{u} T \\left(\\delta \\rho_{r} \\left(b_{m} - c_{m}\\right) - 1\\right)^{2} \\left(b_{m} \\delta \\rho_{r} \\left(c_{m} + 1 + \\sqrt{2}\\right) + 1\\right)^{2} \\left(b_{m} \\delta \\rho_{r} \\left(c_{m} - \\sqrt{2} + 1\\right) + 1\\right)^{2}} \\left(4 R_{u} T \\left(b_{m} - c_{m}\\right)^{2} \\left(b_{m} \\delta \\rho_{r} \\left(c_{m} + 1 + \\sqrt{2}\\right) + 1\\right)^{2} \\left(b_{m} \\delta \\rho_{r} \\left(c_{m} - \\sqrt{2} + 1\\right) + 1\\right)^{2} + \\sqrt{2} a_{m} b_{m} \\left(- \\left(b_{m} \\delta \\rho_{r} \\left(c_{m} + 1 + \\sqrt{2}\\right) + 1\\right) \\left(c_{m} - \\sqrt{2} + 1\\right) + \\left(b_{m} \\delta \\rho_{r} \\left(c_{m} - \\sqrt{2} + 1\\right) + 1\\right) \\left(c_{m} + 1 + \\sqrt{2}\\right)\\right) \\left(\\delta \\rho_{r} \\left(b_{m} - c_{m}\\right) - 1\\right)^{2} \\left(b_{m} \\delta \\rho_{r} \\left(c_{m} + 1 + \\sqrt{2}\\right) + 1\\right) \\left(c_{m} - \\sqrt{2} + 1\\right) + \\sqrt{2} a_{m} b_{m} \\left(- \\left(b_{m} \\delta \\rho_{r} \\left(c_{m} + 1 + \\sqrt{2}\\right) + 1\\right) \\left(c_{m} - \\sqrt{2} + 1\\right) + \\left(b_{m} \\delta \\rho_{r} \\left(c_{m} - \\sqrt{2} + 1\\right) + 1\\right) \\left(c_{m} + 1 + \\sqrt{2}\\right)\\right) \\left(\\delta \\rho_{r} \\left(b_{m} - c_{m}\\right) - 1\\right)^{2} \\left(b_{m} \\delta \\rho_{r} \\left(c_{m} - \\sqrt{2} + 1\\right) + 1\\right) \\left(c_{m} + 1 + \\sqrt{2}\\right)\\right)$$"
      ],
      "text/plain": [
       "  2 ⎛                  2                              2                       \n",
       "ρᵣ ⋅⎝4⋅Rᵤ⋅T⋅(b_m - c_m) ⋅(b_m⋅δ⋅ρᵣ⋅(c_m + 1 + √2) + 1) ⋅(b_m⋅δ⋅ρᵣ⋅(c_m - √2 + \n",
       "──────────────────────────────────────────────────────────────────────────────\n",
       "                                                                              \n",
       "                                                                              \n",
       "\n",
       "       2                                                                      \n",
       "1) + 1)  + √2⋅a_m⋅b_m⋅(-(b_m⋅δ⋅ρᵣ⋅(c_m + 1 + √2) + 1)⋅(c_m - √2 + 1) + (b_m⋅δ⋅\n",
       "──────────────────────────────────────────────────────────────────────────────\n",
       "                                                                              \n",
       "                                                                              \n",
       "\n",
       "                                                             2                \n",
       "ρᵣ⋅(c_m - √2 + 1) + 1)⋅(c_m + 1 + √2))⋅(δ⋅ρᵣ⋅(b_m - c_m) - 1) ⋅(b_m⋅δ⋅ρᵣ⋅(c_m \n",
       "──────────────────────────────────────────────────────────────────────────────\n",
       "                                                2                             \n",
       "                   4⋅Rᵤ⋅T⋅(δ⋅ρᵣ⋅(b_m - c_m) - 1) ⋅(b_m⋅δ⋅ρᵣ⋅(c_m + 1 + √2) + 1\n",
       "\n",
       "                                                                              \n",
       "+ 1 + √2) + 1)⋅(c_m - √2 + 1) + √2⋅a_m⋅b_m⋅(-(b_m⋅δ⋅ρᵣ⋅(c_m + 1 + √2) + 1)⋅(c_\n",
       "──────────────────────────────────────────────────────────────────────────────\n",
       " 2                              2                                             \n",
       ") ⋅(b_m⋅δ⋅ρᵣ⋅(c_m - √2 + 1) + 1)                                              \n",
       "\n",
       "                                                                              \n",
       "m - √2 + 1) + (b_m⋅δ⋅ρᵣ⋅(c_m - √2 + 1) + 1)⋅(c_m + 1 + √2))⋅(δ⋅ρᵣ⋅(b_m - c_m) \n",
       "──────────────────────────────────────────────────────────────────────────────\n",
       "                                                                              \n",
       "                                                                              \n",
       "\n",
       "    2                                             ⎞\n",
       "- 1) ⋅(b_m⋅δ⋅ρᵣ⋅(c_m - √2 + 1) + 1)⋅(c_m + 1 + √2)⎠\n",
       "───────────────────────────────────────────────────\n",
       "                                                   \n",
       "                                                   "
      ]
     },
     "metadata": {},
     "output_type": "display_data"
    },
    {
     "data": {
      "text/plain": [
       "'(1.0L/4.0L)*pow(rho_r, 2)*(4*R_u*T*pow(b_m - c_m, 2)*pow(b_m*delta*rho_r*(c_m + 1 + sqrt(2)) + 1, 2)*pow(b_m*delta*rho_r*(c_m - sqrt(2) + 1) + 1, 2) + sqrt(2)*a_m*b_m*(-(b_m*delta*rho_r*(c_m + 1 + sqrt(2)) + 1)*(c_m - sqrt(2) + 1) + (b_m*delta*rho_r*(c_m - sqrt(2) + 1) + 1)*(c_m + 1 + sqrt(2)))*pow(delta*rho_r*(b_m - c_m) - 1, 2)*(b_m*delta*rho_r*(c_m + 1 + sqrt(2)) + 1)*(c_m - sqrt(2) + 1) + sqrt(2)*a_m*b_m*(-(b_m*delta*rho_r*(c_m + 1 + sqrt(2)) + 1)*(c_m - sqrt(2) + 1) + (b_m*delta*rho_r*(c_m - sqrt(2) + 1) + 1)*(c_m + 1 + sqrt(2)))*pow(delta*rho_r*(b_m - c_m) - 1, 2)*(b_m*delta*rho_r*(c_m - sqrt(2) + 1) + 1)*(c_m + 1 + sqrt(2)))/(R_u*T*pow(delta*rho_r*(b_m - c_m) - 1, 2)*pow(b_m*delta*rho_r*(c_m + 1 + sqrt(2)) + 1, 2)*pow(b_m*delta*rho_r*(c_m - sqrt(2) + 1) + 1, 2))'"
      ]
     },
     "execution_count": 14,
     "metadata": {},
     "output_type": "execute_result"
    }
   ],
   "source": [
    "T,delta,rho_r,b_m,c_m,a_m,R_u = symbols('T,delta,rho_r,b_m,c_m,a_m,R_u')\n",
    "alphar = -log(1-delta*rho_r*(b_m-c_m)) - sqrt(2)*a_m/(4*R_u*T*b_m)*log( (1+delta*rho_r*(b_m*(1+sqrt(2)+c_m))) / (1+delta*rho_r*(b_m*(1-sqrt(2)+c_m))) );\n",
    "display(alphar)\n",
    "ss = simplify(diff(alphar, delta, 2))\n",
    "display(ss)\n",
    "ccode(ss)"
   ]
  },
  {
   "cell_type": "code",
   "execution_count": null,
   "metadata": {
    "collapsed": true
   },
   "outputs": [],
   "source": []
  }
 ],
 "metadata": {
  "kernelspec": {
   "display_name": "Python 2",
   "language": "python",
   "name": "python2"
  },
  "language_info": {
   "codemirror_mode": {
    "name": "ipython",
    "version": 2
   },
   "file_extension": ".py",
   "mimetype": "text/x-python",
   "name": "python",
   "nbconvert_exporter": "python",
   "pygments_lexer": "ipython2",
   "version": "2.7.11"
  }
 },
 "nbformat": 4,
 "nbformat_minor": 0
}
